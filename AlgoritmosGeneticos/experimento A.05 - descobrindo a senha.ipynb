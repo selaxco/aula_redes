{
 "cells": [
  {
   "cell_type": "markdown",
   "metadata": {},
   "source": [
    "Descobrindo a senha\n",
    "===================\n",
    "\n"
   ]
  },
  {
   "cell_type": "markdown",
   "metadata": {},
   "source": [
    "## Objetivo\n",
    "\n"
   ]
  },
  {
   "cell_type": "markdown",
   "metadata": {},
   "source": [
    "Usar um algoritmo genético para descobrir uma senha.\n",
    "\n"
   ]
  },
  {
   "cell_type": "markdown",
   "metadata": {},
   "source": [
    "## Descrição do problema\n",
    "\n"
   ]
  },
  {
   "cell_type": "markdown",
   "metadata": {},
   "source": [
    "Neste problema, a função objetivo deve saber a senha correta e quantificar de alguma maneira o quão perto ou longe os palpites estão da solução (veja que isso é algo que não temos no mundo real. Nenhum site irá te dizer se você está acertando ou errando seu palpite). O critério de parada deste problema é quando a senha for descoberta.\n",
    "\n"
   ]
  },
  {
   "cell_type": "markdown",
   "metadata": {},
   "source": [
    "## Importações\n",
    "\n"
   ]
  },
  {
   "cell_type": "code",
   "execution_count": 1,
   "metadata": {},
   "outputs": [],
   "source": [
    "from funcoes import populacao_inicial_senha\n",
    "from funcoes import funcao_objetivo_pop_senha\n",
    "from funcoes import selecao_torneio_min\n",
    "from funcoes import cruzamento_ponto_simples as funcao_cruzamento\n",
    "from funcoes import mutacao_senha\n",
    "import random"
   ]
  },
  {
   "cell_type": "markdown",
   "metadata": {},
   "source": [
    "## Códigos e discussão\n",
    "\n"
   ]
  },
  {
   "cell_type": "code",
   "execution_count": 2,
   "metadata": {},
   "outputs": [],
   "source": [
    "### CONSTANTES\n",
    "\n",
    "# relacionadas à busca\n",
    "TAMANHO_POP = 50\n",
    "CHANCE_CRUZAMENTO = 0.5\n",
    "CHANCE_MUTACAO = 0.05\n",
    "NUM_COMBATENTES_NO_TORNEIO = 3\n",
    "\n",
    "# relacionadas ao problema a ser resulvido\n",
    "SENHA = \"correcthorsebatterystaple\"\n",
    "LETRAS_POSSIVEIS = \"abcdefghijklmnopqrstuvwxyz\"\n",
    "NUM_GENES = len(SENHA)"
   ]
  },
  {
   "cell_type": "code",
   "execution_count": 3,
   "metadata": {},
   "outputs": [],
   "source": [
    "# funções locais\n",
    "\n",
    "def cria_populacao_inicial(tamanho, tamanho_senha):\n",
    "    return populacao_inicial_senha(tamanho, tamanho_senha, LETRAS_POSSIVEIS)\n",
    "\n",
    "def funcao_objetivo_pop(populacao):\n",
    "    return funcao_objetivo_pop_senha(populacao, SENHA)\n",
    "\n",
    "def funcao_selecao(populacao, fitness):\n",
    "    return selecao_torneio_min(populacao, fitness, NUM_COMBATENTES_NO_TORNEIO)\n",
    "\n",
    "def funcao_mutacao(individuo):\n",
    "    return mutacao_senha(individuo, LETRAS_POSSIVEIS)"
   ]
  },
  {
   "cell_type": "code",
   "execution_count": 9,
   "metadata": {
    "tags": []
   },
   "outputs": [
    {
     "name": "stdout",
     "output_type": "stream",
     "text": [
      "Progresso da melhor senha já vista:\n",
      "nrlwlbwfvciafmsstuskjetkd - fitness: 144\n",
      "hoykedbqmnpffwrnooxuqdymv - fitness: 140\n",
      "hoykekpgghkvcdqzjpthxcugd - fitness: 128\n",
      "hoykekpgghkvcdqzjpthxcukd - fitness: 124\n",
      "hoykekpggnpffwrnooxuqduub - fitness: 121\n",
      "hoyrijwggnpffwrnooxuqduub - fitness: 116\n",
      "hoyrijwggnpffwrnooxuqdukd - fitness: 106\n",
      "hoyrejwggnpffwrnooxuqdukd - fitness: 102\n",
      "hoyrejwggnpffwrnooxuqdskd - fitness: 100\n",
      "hoyrejwggnpffdqzjptuqdskd - fitness: 80\n",
      "hoyrejwggnpffdqzhptuqdskd - fitness: 78\n",
      "hoyrejwggnpffdrzjpxuqdskd - fitness: 75\n",
      "hoyrejwggnpffdrzjpxtqdskd - fitness: 74\n",
      "hoyrejtggnpffdrzjpxuqdskd - fitness: 72\n",
      "hoyrejtggnpffdrzjpxtqdskd - fitness: 71\n",
      "hoyrejtggnsffdrzjpxtqdskd - fitness: 68\n",
      "hoyrejtggnsfbdrzjpxtqdskd - fitness: 64\n",
      "hoyrejtggnsfbdrzjpxtqdske - fitness: 63\n",
      "hoyrejtggnsfbdrwjpxtqdskd - fitness: 61\n",
      "hoyrejtggnsfbdrwjpxtqdske - fitness: 60\n",
      "hoyrejtglnsfbdrzjpxtqdske - fitness: 58\n",
      "hoyrejtglnsfbdrwjpxtqdske - fitness: 55\n",
      "hoyreatglnsfbdrwjpxtqdske - fitness: 50\n",
      "foyreatglnsfbdrwjpxtqdske - fitness: 48\n",
      "fosreatglnsfbdrwjpxtqdske - fitness: 42\n",
      "fosreatglnsfbdrrjpxtqdske - fitness: 41\n",
      "fosreatglnsfbdrwdpxtqdske - fitness: 38\n",
      "cosreatglnsfbdrwdpxtqdske - fitness: 35\n",
      "cosreatglnsfbdrwdsxtqdske - fitness: 34\n",
      "cosreatgqnsfbdrwdsxtqdske - fitness: 33\n",
      "cosreatgqnsfbdtwdsxtqdske - fitness: 31\n",
      "cosreatgqnsfbdtwdsytqdske - fitness: 30\n",
      "cosreatgqnsfbdtwesytqdske - fitness: 29\n",
      "cosreatgqtsfbdtwesytqdske - fitness: 27\n",
      "cosreatgqtsfbdtwesytqcske - fitness: 26\n",
      "cosrebtgqtsfbdtwesytqcske - fitness: 25\n",
      "cosrebtgqtsfbdtwerytqcske - fitness: 24\n",
      "cosrebtgqtsfbdtserytqcske - fitness: 22\n",
      "cosrebtgqtsfbdtserytqcqke - fitness: 20\n",
      "cosrebtgqtsfbdtserytqcpke - fitness: 19\n",
      "correbtgqtsfbdtserytqcpke - fitness: 18\n",
      "correbtgqtsfbdtterytqcpke - fitness: 17\n",
      "correbtgmtsfbdtterysqcpke - fitness: 16\n",
      "correbtgotsfbdtterysqcpke - fitness: 14\n",
      "correbtgotsfbctterysqcpke - fitness: 13\n",
      "correbtgotsfbctterysqcple - fitness: 12\n",
      "correctgotsfbctterysqcple - fitness: 11\n",
      "correctgotsfbctterysqbple - fitness: 10\n",
      "correctgorsfbctterysqbple - fitness: 8\n",
      "correctgorsfbctterysrbple - fitness: 7\n",
      "correctgorsfbbtterysrbple - fitness: 6\n",
      "correcthorsfbbtterysrbple - fitness: 5\n",
      "correcthorsfbbtteryssbple - fitness: 4\n",
      "correcthorsfbbtteryssaple - fitness: 3\n",
      "correcthorsebbtteryssaple - fitness: 2\n",
      "correcthorsebatteryssaple - fitness: 1\n",
      "correcthorsebatterystaple - fitness: 0\n",
      "\n",
      "Melhor palpite da senha encontrado:\n",
      "Foram necessárias 1394  gerações para determinar o melhor palpite da senha.\n",
      "correcthorsebatterystaple\n"
     ]
    }
   ],
   "source": [
    "populacao = cria_populacao_inicial(TAMANHO_POP, NUM_GENES)\n",
    "\n",
    "melhor_fitness_ja_visto = float(\"inf\")  # é assim que escrevemos infinito em python\n",
    "\n",
    "print(\"Progresso da melhor senha já vista:\")\n",
    "\n",
    "geracoes = 0\n",
    "while(melhor_fitness_ja_visto != 0): \n",
    "    \n",
    "    geracoes = geracoes + 1\n",
    "    \n",
    "    # Seleção\n",
    "    fitness = funcao_objetivo_pop(populacao)\n",
    "    populacao = funcao_selecao(populacao, fitness)\n",
    "    \n",
    "    # Cruzamento\n",
    "    pais = populacao[0::2]\n",
    "    maes = populacao[1::2]\n",
    "    \n",
    "    contador = 0\n",
    "    \n",
    "    for pai, mae in zip(pais, maes):\n",
    "        if random.random() <= CHANCE_CRUZAMENTO:\n",
    "            filho1, filho2 = funcao_cruzamento(pai, mae)\n",
    "            populacao[contador] = filho1\n",
    "            populacao[contador + 1] = filho2\n",
    "        \n",
    "        contador = contador + 2   \n",
    "        \n",
    "    # Mutação\n",
    "    for n in range(len(populacao)):\n",
    "        if random.random() <= CHANCE_MUTACAO:\n",
    "            individuo = populacao[n]\n",
    "            populacao[n] = funcao_mutacao(individuo)            \n",
    "            \n",
    "    # melhor individuo já visto até agora\n",
    "    fitness = funcao_objetivo_pop(populacao)\n",
    "    menor_fitness = min(fitness)\n",
    "    if menor_fitness < melhor_fitness_ja_visto:        \n",
    "        posicao = fitness.index(menor_fitness)\n",
    "        melhor_individuo_ja_visto = populacao[posicao]\n",
    "        melhor_fitness_ja_visto = menor_fitness\n",
    "        print(\"\".join(melhor_individuo_ja_visto), \"- fitness:\", melhor_fitness_ja_visto)\n",
    "\n",
    "print()\n",
    "print(\"Melhor palpite da senha encontrado:\")\n",
    "print(\"Foram necessárias\", geracoes, \" gerações para determinar o melhor palpite da senha.\")\n",
    "print(\"\".join(melhor_individuo_ja_visto))\n",
    "\n"
   ]
  },
  {
   "cell_type": "markdown",
   "metadata": {},
   "source": [
    "## Conclusão\n",
    "\n"
   ]
  },
  {
   "cell_type": "markdown",
   "metadata": {},
   "source": [
    "Nesse experimento, foi realizado um algoritmo que descobre uma senha, a partir apenas do dado de tamanho dessa senha. Para isso, foram utilizadas técnicas de algoritmos genéticos, com funções de seleção por torneio (3 combatentes), de cruzamento e de mutações, que estão armazenadas no arquivo funcoes.py. Esse experimento possui caráter determinístico, pois tem como critério de parada um fitness igual a 0, ou seja, só para de rodar o loop quando a senha já foi descoberta. \n",
    "\n",
    "No experimento 5, diferentemente dos anteriores, é observado um problema de minimização, uma vez que durante a seleção por torneio, busca-se sempre o menor fitness possível. A adição de funções de cruzamento e mutações faz com que o objetivo seja alcançado mais facilmente. \n"
   ]
  },
  {
   "cell_type": "markdown",
   "metadata": {},
   "source": [
    "## Playground\n",
    "\n"
   ]
  },
  {
   "cell_type": "markdown",
   "metadata": {},
   "source": [
    "problema de minimização\n",
    "\n",
    "converte as letras em numeros e utiliza isso como métrica\n",
    "\n",
    "o individuo será criado a partir do sorteio de cada letra\n",
    "\n",
    "corre o risco de selecionar o mesmo individuo mais de uma vez, o que não é um problema, pois se em um combate com 3 outros indivíduos ele continuou vencendo, significa que é um bom indivíduo."
   ]
  }
 ],
 "metadata": {
  "kernelspec": {
   "display_name": "ilumpy",
   "language": "python",
   "name": "ilumpy"
  },
  "language_info": {
   "codemirror_mode": {
    "name": "ipython",
    "version": 3
   },
   "file_extension": ".py",
   "mimetype": "text/x-python",
   "name": "python",
   "nbconvert_exporter": "python",
   "pygments_lexer": "ipython3",
   "version": "3.9.7"
  },
  "org": null
 },
 "nbformat": 4,
 "nbformat_minor": 4
}
