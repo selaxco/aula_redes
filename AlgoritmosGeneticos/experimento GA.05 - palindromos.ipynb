{
 "cells": [
  {
   "cell_type": "markdown",
   "metadata": {},
   "source": [
    "Palíndromos\n",
    "========================================\n",
    "\n"
   ]
  },
  {
   "cell_type": "markdown",
   "metadata": {},
   "source": [
    "## Introdução\n",
    "\n"
   ]
  },
  {
   "cell_type": "markdown",
   "metadata": {},
   "source": [
    "Um palíndromo é são sequencia de letras que são iguais, independente do sentido em que são lidas. Nesse experimento, busca-se encontrar um algoritmo para encontrar palíndromos.\n"
   ]
  },
  {
   "cell_type": "markdown",
   "metadata": {},
   "source": [
    "## Objetivo\n",
    "\n"
   ]
  },
  {
   "cell_type": "markdown",
   "metadata": {},
   "source": [
    "Encontre pelo menos 10 palíndromos de 5 letras. Estes palíndromos devem ter pelo menos uma vogal. Não é necessário que eles formem palavras válidas em português ou qualquer outro idioma.\n"
   ]
  },
  {
   "cell_type": "markdown",
   "metadata": {},
   "source": [
    "## Importações\n",
    "\n"
   ]
  },
  {
   "cell_type": "code",
   "execution_count": 9,
   "metadata": {},
   "outputs": [],
   "source": [
    "from funcoes import populacao_inicial_senha as populacao_inicial_palindromo\n",
    "from funcoes import funcao_objetivo_pop_palindromo as funcao_objetivo_pop\n",
    "from funcoes import selecao_torneio_min\n",
    "from funcoes import cruzamento_ponto_simples as funcao_cruzamento\n",
    "from funcoes import mutacao_senha as mutacao_palindromo\n",
    "from funcoes import verifica_vogais\n",
    "from funcoes import funcao_objetivo_palindromo\n",
    "import random"
   ]
  },
  {
   "cell_type": "markdown",
   "metadata": {},
   "source": [
    "## Códigos e discussão\n",
    "\n"
   ]
  },
  {
   "cell_type": "code",
   "execution_count": 10,
   "metadata": {},
   "outputs": [],
   "source": [
    "# Constantes\n",
    "\n",
    "TAMANHO_PALINDROMO = 5\n",
    "NUM_GERACOES = 10\n",
    "CHANCE_CRUZAMENTO = 0.5\n",
    "CHANCE_MUTACAO = 0.05\n",
    "LETRAS_POSSIVEIS = \"abcdefghijklmnopqrstuvwxyz\"\n",
    "NUM_COMBATENTES_NO_TORNEIO = 3"
   ]
  },
  {
   "cell_type": "code",
   "execution_count": 11,
   "metadata": {},
   "outputs": [],
   "source": [
    "def cria_populacao_inicial(tamanho, tamanho_senha):\n",
    "    return populacao_inicial_palindromo(tamanho, tamanho_senha, LETRAS_POSSIVEIS)\n",
    "def funcao_selecao(populacao, fitness):\n",
    "    return selecao_torneio_min(populacao, fitness, NUM_COMBATENTES_NO_TORNEIO)\n",
    "def funcao_mutacao(individuo):\n",
    "    return mutacao_palindromo(individuo, LETRAS_POSSIVEIS)"
   ]
  },
  {
   "cell_type": "code",
   "execution_count": 18,
   "metadata": {
    "tags": []
   },
   "outputs": [
    {
     "name": "stdout",
     "output_type": "stream",
     "text": [
      "1265\n",
      "[['m', 'i', 'o', 'i', 'm'], ['m', 'i', 'l', 'i', 'm'], ['v', 'w', 'u', 'w', 'z'], ['v', 'w', 'u', 'w', 'r'], ['v', 'w', 'u', 'w', 'v'], ['e', 'i', 'a', 'i', 'e'], ['e', 'i', 'r', 'i', 'e'], ['r', 'z', 'u', 'z', 'r'], ['l', 'g', 'u', 'c', 'l'], ['r', 'p', 'a', 'p', 'g'], ['r', 'p', 'a', 'p', 'r']]\n"
     ]
    }
   ],
   "source": [
    "rodada = 0\n",
    "lista_palindromos = []\n",
    "\n",
    "while(len(lista_palindromos) < 10):\n",
    "    \n",
    "    populacao = cria_populacao_inicial(NUM_GERACOES, TAMANHO_PALINDROMO) \n",
    "    melhor_fitness_ja_visto = float(\"inf\")\n",
    "    \n",
    "    while(melhor_fitness_ja_visto != 0):\n",
    "        #seleção\n",
    "        fitness = funcao_objetivo_pop(populacao)\n",
    "        populacao = funcao_selecao(populacao, fitness)\n",
    "    \n",
    "        # Cruzamento\n",
    "        pais = populacao[0::2]\n",
    "        maes = populacao[1::2]\n",
    "    \n",
    "        contador = 0\n",
    "    \n",
    "        for pai, mae in zip(pais, maes):\n",
    "            if random.random() <= CHANCE_CRUZAMENTO:\n",
    "                filho1, filho2 = funcao_cruzamento(pai, mae)\n",
    "                populacao[contador] = filho1\n",
    "                populacao[contador + 1] = filho2\n",
    "        \n",
    "            contador = contador + 2 \n",
    "        \n",
    "        # Mutação\n",
    "        for n in range(len(populacao)):\n",
    "            if random.random() <= CHANCE_MUTACAO:\n",
    "                individuo = populacao[n]\n",
    "                populacao[n] = funcao_mutacao(individuo)   \n",
    "    \n",
    "        rodada = rodada + 1\n",
    "\n",
    "        melhor_fitness_ja_visto = sum(fitness)\n",
    "        \n",
    "        for individuo in populacao: # Atualizado 04.05.23\n",
    "            if verifica_vogais(individuo) and funcao_objetivo_palindromo(individuo) == 0 and (individuo not in lista_palindromos):\n",
    "                lista_palindromos.append(individuo)\n",
    "                \n",
    "    \n",
    "print(rodada)\n",
    "print(lista_palindromos)"
   ]
  },
  {
   "cell_type": "markdown",
   "metadata": {},
   "source": [
    "## Conclusão\n",
    "\n"
   ]
  },
  {
   "cell_type": "markdown",
   "metadata": {},
   "source": [
    "Nesse experimento, foi utilizado um algoritmo genético para a solução do problema dos palíndromos. Como foi adotada a estratégia de minimização, a seleção por torneio foi a utilizada para buscar os indivíduos com os menores fitness que, nesse caso, representavam aqueles mais próximos de serem palíndromos. As funções utilizadas para seleção, cruzamento e mutação foram armazenadas em um arquivo externo chamado funcoes.py, para melhorar a organização do código.  \n",
    "\n",
    "Pode-se entender esse algoritmo como probabilístico no que diz respeito a se obter uma lista com 10 palíndromos que cumprem os requisitos, uma vez que a lista de palíndromos encontrados são diferentes a cada vez que o código é rodado. \n",
    "\n",
    "Embora esse código entregue o resultado esperado, é possível realizar modificações para fazer com que a restrição de haver pelo menos uma vogal em cada palindromo seja cumprida. Assim, pode ser implementada futuramente a verificação das vogais já na função objetivo, a partir da penalização do fitness dos indivíduos que não possuem vogais. Assim, com o fitness maior, não são selecionados nos torneios e os indivíduos que cumprem os requisitos são priorizados. "
   ]
  },
  {
   "cell_type": "markdown",
   "metadata": {},
   "source": [
    "\n"
   ]
  },
  {
   "cell_type": "markdown",
   "metadata": {
    "tags": []
   },
   "source": [
    "## Referências consultadas\n",
    "\n"
   ]
  },
  {
   "cell_type": "markdown",
   "metadata": {},
   "source": [
    "## Playground\n",
    "\n"
   ]
  },
  {
   "cell_type": "code",
   "execution_count": 13,
   "metadata": {},
   "outputs": [],
   "source": [
    "v = [[1,2,3,4,5,2,6],[1,2],[1,2]]\n",
    "v[-2]\n",
    "u = [1,2]\n",
    "\n",
    "B = [\"a\",\"b\"]"
   ]
  },
  {
   "cell_type": "code",
   "execution_count": 14,
   "metadata": {},
   "outputs": [
    {
     "data": {
      "text/plain": [
       "1"
      ]
     },
     "execution_count": 14,
     "metadata": {},
     "output_type": "execute_result"
    }
   ],
   "source": [
    "v.count(u)\n",
    "v.index(u)"
   ]
  },
  {
   "cell_type": "code",
   "execution_count": 15,
   "metadata": {},
   "outputs": [],
   "source": [
    "def verifica_vogais(individuo):\n",
    "    '''\n",
    "    individuo: uma lista representando um candidato do palíndromo\n",
    "    \n",
    "    return: True se existir uma vogal no candidato e False se não existir\n",
    "    '''\n",
    "    vogais = \"aeiou\"\n",
    "    \n",
    "    for i in individuo:\n",
    "        if i in vogais:\n",
    "            return True\n",
    "    \n",
    "    return False\n"
   ]
  },
  {
   "cell_type": "code",
   "execution_count": 8,
   "metadata": {},
   "outputs": [
    {
     "data": {
      "text/plain": [
       "True"
      ]
     },
     "execution_count": 8,
     "metadata": {},
     "output_type": "execute_result"
    }
   ],
   "source": [
    "verifica_vogais(B)"
   ]
  },
  {
   "cell_type": "code",
   "execution_count": null,
   "metadata": {},
   "outputs": [],
   "source": []
  }
 ],
 "metadata": {
  "kernelspec": {
   "display_name": "ilumpy",
   "language": "python",
   "name": "ilumpy"
  },
  "language_info": {
   "codemirror_mode": {
    "name": "ipython",
    "version": 3
   },
   "file_extension": ".py",
   "mimetype": "text/x-python",
   "name": "python",
   "nbconvert_exporter": "python",
   "pygments_lexer": "ipython3",
   "version": "3.9.7"
  },
  "org": null
 },
 "nbformat": 4,
 "nbformat_minor": 4
}
