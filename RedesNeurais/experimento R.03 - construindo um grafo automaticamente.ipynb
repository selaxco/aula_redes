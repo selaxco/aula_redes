{
 "cells": [
  {
   "cell_type": "markdown",
   "metadata": {},
   "source": [
    "Construindo um grafo automaticamente\n",
    "====================================\n",
    "\n"
   ]
  },
  {
   "cell_type": "markdown",
   "metadata": {},
   "source": [
    "## Introdução\n",
    "\n"
   ]
  },
  {
   "cell_type": "markdown",
   "metadata": {},
   "source": [
    "Neste notebook nós vamos dar o primeiro passo para construir nossa rede neural artificial. Neste primeiro passo, nós vamos criar uma classe que gera automaticamente o nosso `grafo computacional`. O grafo computacional é o grafo que representa todas as operações matemáticas que ocorreram ao se computar um certo valor $y$. O grafo computacional é um passo necessário pois será baseado nele que iremos computar os gradientes locais necessários para realizar o `backpropagation`.\n",
    "\n"
   ]
  },
  {
   "cell_type": "code",
   "execution_count": 1,
   "metadata": {},
   "outputs": [],
   "source": [
    "try:\n",
    "    import graphviz\n",
    "except ModuleNotFoundError:\n",
    "    import sys\n",
    "    !{sys.executable} -m pip install graphviz"
   ]
  },
  {
   "cell_type": "markdown",
   "metadata": {},
   "source": [
    "## Importações\n",
    "\n"
   ]
  },
  {
   "cell_type": "code",
   "execution_count": 2,
   "metadata": {},
   "outputs": [],
   "source": [
    "from funcoes import plota_grafo"
   ]
  },
  {
   "cell_type": "markdown",
   "metadata": {},
   "source": [
    "## Código e discussão\n",
    "\n"
   ]
  },
  {
   "cell_type": "markdown",
   "metadata": {},
   "source": [
    "### Primeiros passos\n",
    "\n"
   ]
  },
  {
   "cell_type": "markdown",
   "metadata": {},
   "source": [
    "A base de tudo será uma classe chamada `Valor`. Vamos começar pelo básico!\n",
    "\n"
   ]
  },
  {
   "cell_type": "code",
   "execution_count": 3,
   "metadata": {},
   "outputs": [],
   "source": [
    "class Valor:\n",
    "    def __init__(self, data):\n",
    "        self.data = data\n",
    "\n",
    "    def __repr__(self):\n",
    "        return f\"Valor(data={self.data})\""
   ]
  },
  {
   "cell_type": "markdown",
   "metadata": {},
   "source": [
    "Vamos testar nossa classe!\n",
    "\n"
   ]
  },
  {
   "cell_type": "code",
   "execution_count": 4,
   "metadata": {},
   "outputs": [
    {
     "name": "stdout",
     "output_type": "stream",
     "text": [
      "Valor(data=60)\n",
      "60\n"
     ]
    }
   ],
   "source": [
    "x1 = Valor(60)\n",
    "\n",
    "print(x1)\n",
    "print(x1.data)\n"
   ]
  },
  {
   "cell_type": "markdown",
   "metadata": {},
   "source": [
    "### Os dunders `__add__` e `__mul__`\n",
    "\n"
   ]
  },
  {
   "cell_type": "markdown",
   "metadata": {},
   "source": [
    "Observe que não conseguimos adicionar nem multiplicar objetos criados com a classe `Valor`.\n",
    "\n"
   ]
  },
  {
   "cell_type": "code",
   "execution_count": 5,
   "metadata": {},
   "outputs": [],
   "source": [
    "a = Valor(10)\n",
    "b = Valor(5)"
   ]
  },
  {
   "cell_type": "code",
   "execution_count": 6,
   "metadata": {},
   "outputs": [
    {
     "ename": "TypeError",
     "evalue": "unsupported operand type(s) for +: 'Valor' and 'Valor'",
     "output_type": "error",
     "traceback": [
      "\u001b[1;31m---------------------------------------------------------------------------\u001b[0m",
      "\u001b[1;31mTypeError\u001b[0m                                 Traceback (most recent call last)",
      "\u001b[1;32mC:\\Users\\THAYNA~1.ABT\\AppData\\Local\\Temp/ipykernel_15376/3864629426.py\u001b[0m in \u001b[0;36m<module>\u001b[1;34m\u001b[0m\n\u001b[1;32m----> 1\u001b[1;33m \u001b[0mprint\u001b[0m\u001b[1;33m(\u001b[0m\u001b[0ma\u001b[0m \u001b[1;33m+\u001b[0m \u001b[0mb\u001b[0m\u001b[1;33m)\u001b[0m\u001b[1;33m\u001b[0m\u001b[1;33m\u001b[0m\u001b[0m\n\u001b[0m",
      "\u001b[1;31mTypeError\u001b[0m: unsupported operand type(s) for +: 'Valor' and 'Valor'"
     ]
    }
   ],
   "source": [
    "print(a + b)"
   ]
  },
  {
   "cell_type": "code",
   "execution_count": 7,
   "metadata": {},
   "outputs": [
    {
     "ename": "TypeError",
     "evalue": "unsupported operand type(s) for *: 'Valor' and 'Valor'",
     "output_type": "error",
     "traceback": [
      "\u001b[1;31m---------------------------------------------------------------------------\u001b[0m",
      "\u001b[1;31mTypeError\u001b[0m                                 Traceback (most recent call last)",
      "\u001b[1;32mC:\\Users\\THAYNA~1.ABT\\AppData\\Local\\Temp/ipykernel_15376/2640154986.py\u001b[0m in \u001b[0;36m<module>\u001b[1;34m\u001b[0m\n\u001b[1;32m----> 1\u001b[1;33m \u001b[0mprint\u001b[0m\u001b[1;33m(\u001b[0m\u001b[0ma\u001b[0m \u001b[1;33m*\u001b[0m \u001b[0mb\u001b[0m\u001b[1;33m)\u001b[0m\u001b[1;33m\u001b[0m\u001b[1;33m\u001b[0m\u001b[0m\n\u001b[0m",
      "\u001b[1;31mTypeError\u001b[0m: unsupported operand type(s) for *: 'Valor' and 'Valor'"
     ]
    }
   ],
   "source": [
    "print(a * b)"
   ]
  },
  {
   "cell_type": "markdown",
   "metadata": {},
   "source": [
    "Ué&#x2026; porque não conseguimos? Não conseguimos pois o Python (ainda) não é vidente. Ele lá vai saber como adicionar ou multiplicar algo que você criou? Pra você parece óbvio que valores podem ser adicionados ou multiplicados, mas para o Python ele nem sabe o que significa a palavra `Valor`&#x2026;\n",
    "\n",
    "Como sempre, temos que contar para o programa o que queremos que aconteça quando usarmos os operadores `+` e `*`. Quem faz isso são os dunders `__add__` e `__mul__`.\n",
    "\n"
   ]
  },
  {
   "cell_type": "code",
   "execution_count": 8,
   "metadata": {},
   "outputs": [],
   "source": [
    "class Valor:\n",
    "    def __init__(self, data):\n",
    "        self.data = data\n",
    "\n",
    "    def __repr__(self):\n",
    "        return f\"Valor(data={self.data})\"\n",
    "\n",
    "    def __add__(self, outro_valor):\n",
    "        saida = Valor(self.data + outro_valor.data)\n",
    "        return saida\n",
    "\n",
    "    def __mul__(self, outro_valor):\n",
    "        saida = Valor(self.data * outro_valor.data)\n",
    "        return saida"
   ]
  },
  {
   "cell_type": "markdown",
   "metadata": {},
   "source": [
    "Vamos testar!\n",
    "\n"
   ]
  },
  {
   "cell_type": "code",
   "execution_count": 9,
   "metadata": {},
   "outputs": [
    {
     "name": "stdout",
     "output_type": "stream",
     "text": [
      "Valor(data=15)\n",
      "Valor(data=50)\n"
     ]
    }
   ],
   "source": [
    "a = Valor(10)\n",
    "b = Valor(5)\n",
    "\n",
    "print(a + b)\n",
    "print(a * b)"
   ]
  },
  {
   "cell_type": "markdown",
   "metadata": {},
   "source": [
    "### Registrando os progenitores\n",
    "\n"
   ]
  },
  {
   "cell_type": "markdown",
   "metadata": {},
   "source": [
    "Nosso objetivo é construir um grafo computacional. Em um grafo computacional, um certo vértice pode ter um ou mais vértices progenitores (são seus pais/mães). Nós não podemos perder essa informação quando formos construir um grafo, então precisamos incluir essa informação na nossa classe.\n",
    "\n"
   ]
  },
  {
   "cell_type": "code",
   "execution_count": 10,
   "metadata": {},
   "outputs": [],
   "source": [
    "class Valor:\n",
    "    def __init__(self, data, progenitor=()):\n",
    "        self.data = data\n",
    "        self.progenitor = progenitor\n",
    "\n",
    "    def __repr__(self):\n",
    "        return f\"Valor(data={self.data})\"\n",
    "\n",
    "    def __add__(self, outro_valor):\n",
    "        data = self.data + outro_valor.data\n",
    "        progenitor = (self, outro_valor)\n",
    "        saida = Valor(data, progenitor)\n",
    "        return saida\n",
    "\n",
    "    def __mul__(self, outro_valor):\n",
    "        data = self.data * outro_valor.data\n",
    "        progenitor = (self, outro_valor)\n",
    "        saida = Valor(data, progenitor)\n",
    "        return saida"
   ]
  },
  {
   "cell_type": "markdown",
   "metadata": {},
   "source": [
    "Vamos testar!\n",
    "\n"
   ]
  },
  {
   "cell_type": "code",
   "execution_count": 11,
   "metadata": {},
   "outputs": [
    {
     "name": "stdout",
     "output_type": "stream",
     "text": [
      "10\n",
      "()\n",
      "Valor(data=15)\n",
      "Valor(data=10)\n",
      "(Valor(data=15), Valor(data=10))\n"
     ]
    }
   ],
   "source": [
    "a = Valor(10)\n",
    "b = Valor(5)\n",
    "\n",
    "print(a.data)\n",
    "print(a.progenitor)\n",
    "\n",
    "c = a + b\n",
    "d = c * a\n",
    "\n",
    "print(c)\n",
    "print(a)\n",
    "print(d.progenitor)"
   ]
  },
  {
   "cell_type": "markdown",
   "metadata": {},
   "source": [
    "### Registrando o operador mãe\n",
    "\n"
   ]
  },
  {
   "cell_type": "markdown",
   "metadata": {},
   "source": [
    "Em um grafo computacional, um vértice pode ter um operador mãe. O operador mãe é o operador que foi usado para gerar o vértice.\n",
    "\n"
   ]
  },
  {
   "cell_type": "code",
   "execution_count": 12,
   "metadata": {},
   "outputs": [],
   "source": [
    "class Valor:\n",
    "    def __init__(self, data, progenitor=(), operador_mae=\"\"):\n",
    "        self.data = data\n",
    "        self.progenitor = progenitor\n",
    "        self.operador_mae = operador_mae\n",
    "\n",
    "    def __repr__(self):\n",
    "        return f\"Valor(data={self.data})\"\n",
    "\n",
    "    def __add__(self, outro_valor):\n",
    "        data = self.data + outro_valor.data\n",
    "        progenitor = (self, outro_valor)\n",
    "        operador_mae = \"+\"\n",
    "        saida = Valor(data, progenitor, operador_mae)\n",
    "        return saida\n",
    "\n",
    "    def __mul__(self, outro_valor):\n",
    "        data = self.data * outro_valor.data\n",
    "        progenitor = (self, outro_valor)\n",
    "        operador_mae = \"*\"\n",
    "        saida = Valor(data, progenitor, operador_mae)\n",
    "        return saida"
   ]
  },
  {
   "cell_type": "markdown",
   "metadata": {},
   "source": [
    "Vamos testar!\n",
    "\n"
   ]
  },
  {
   "cell_type": "code",
   "execution_count": 13,
   "metadata": {},
   "outputs": [
    {
     "name": "stdout",
     "output_type": "stream",
     "text": [
      "Valor(data=15)\n",
      "(Valor(data=10), Valor(data=5))\n",
      "+\n"
     ]
    }
   ],
   "source": [
    "a = Valor(10)\n",
    "b = Valor(5)\n",
    "\n",
    "c = a + b\n",
    "d = c * a\n",
    "\n",
    "print(c)\n",
    "print(c.progenitor)\n",
    "print(c.operador_mae)"
   ]
  },
  {
   "cell_type": "markdown",
   "metadata": {},
   "source": [
    "### Plotando o primeiro grafo\n",
    "\n"
   ]
  },
  {
   "cell_type": "markdown",
   "metadata": {},
   "source": [
    "Vamos plotar nosso primeiro grafo!\n",
    "\n"
   ]
  },
  {
   "cell_type": "code",
   "execution_count": 14,
   "metadata": {},
   "outputs": [
    {
     "data": {
      "image/svg+xml": [
       "<?xml version=\"1.0\" encoding=\"UTF-8\" standalone=\"no\"?>\n",
       "<!DOCTYPE svg PUBLIC \"-//W3C//DTD SVG 1.1//EN\"\n",
       " \"http://www.w3.org/Graphics/SVG/1.1/DTD/svg11.dtd\">\n",
       "<!-- Generated by graphviz version 6.0.2 (20221011.1828)\n",
       " -->\n",
       "<!-- Pages: 1 -->\n",
       "<svg width=\"515pt\" height=\"128pt\"\n",
       " viewBox=\"0.00 0.00 515.00 128.00\" xmlns=\"http://www.w3.org/2000/svg\" xmlns:xlink=\"http://www.w3.org/1999/xlink\">\n",
       "<g id=\"graph0\" class=\"graph\" transform=\"scale(1 1) rotate(0) translate(4 124)\">\n",
       "<polygon fill=\"white\" stroke=\"none\" points=\"-4,4 -4,-124 511,-124 511,4 -4,4\"/>\n",
       "<!-- 1906260782144 -->\n",
       "<g id=\"node1\" class=\"node\">\n",
       "<title>1906260782144</title>\n",
       "<polygon fill=\"none\" stroke=\"black\" points=\"2.5,-83.5 2.5,-119.5 83.5,-119.5 83.5,-83.5 2.5,-83.5\"/>\n",
       "<text text-anchor=\"middle\" x=\"43\" y=\"-97.8\" font-family=\"Times New Roman,serif\" font-size=\"14.00\">data 2.0000</text>\n",
       "</g>\n",
       "<!-- 1906260782240* -->\n",
       "<g id=\"node5\" class=\"node\">\n",
       "<title>1906260782240*</title>\n",
       "<ellipse fill=\"none\" stroke=\"black\" cx=\"149\" cy=\"-73.5\" rx=\"27\" ry=\"18\"/>\n",
       "<text text-anchor=\"middle\" x=\"149\" y=\"-69.8\" font-family=\"Times New Roman,serif\" font-size=\"14.00\">*</text>\n",
       "</g>\n",
       "<!-- 1906260782144&#45;&gt;1906260782240* -->\n",
       "<g id=\"edge6\" class=\"edge\">\n",
       "<title>1906260782144&#45;&gt;1906260782240*</title>\n",
       "<path fill=\"none\" stroke=\"black\" d=\"M83.61,-90.83C93.58,-88.15 104.2,-85.29 113.87,-82.69\"/>\n",
       "<polygon fill=\"black\" stroke=\"black\" points=\"114.8,-86.06 123.55,-80.08 112.98,-79.3 114.8,-86.06\"/>\n",
       "</g>\n",
       "<!-- 1906260780656 -->\n",
       "<g id=\"node2\" class=\"node\">\n",
       "<title>1906260780656</title>\n",
       "<polygon fill=\"none\" stroke=\"black\" points=\"426,-27.5 426,-63.5 507,-63.5 507,-27.5 426,-27.5\"/>\n",
       "<text text-anchor=\"middle\" x=\"466.5\" y=\"-41.8\" font-family=\"Times New Roman,serif\" font-size=\"14.00\">data 4.0000</text>\n",
       "</g>\n",
       "<!-- 1906260780656+ -->\n",
       "<g id=\"node3\" class=\"node\">\n",
       "<title>1906260780656+</title>\n",
       "<ellipse fill=\"none\" stroke=\"black\" cx=\"363\" cy=\"-45.5\" rx=\"27\" ry=\"18\"/>\n",
       "<text text-anchor=\"middle\" x=\"363\" y=\"-41.8\" font-family=\"Times New Roman,serif\" font-size=\"14.00\">+</text>\n",
       "</g>\n",
       "<!-- 1906260780656+&#45;&gt;1906260780656 -->\n",
       "<g id=\"edge1\" class=\"edge\">\n",
       "<title>1906260780656+&#45;&gt;1906260780656</title>\n",
       "<path fill=\"none\" stroke=\"black\" d=\"M390.14,-45.5C397.91,-45.5 406.69,-45.5 415.45,-45.5\"/>\n",
       "<polygon fill=\"black\" stroke=\"black\" points=\"415.65,-49 425.65,-45.5 415.65,-42 415.65,-49\"/>\n",
       "</g>\n",
       "<!-- 1906260782240 -->\n",
       "<g id=\"node4\" class=\"node\">\n",
       "<title>1906260782240</title>\n",
       "<polygon fill=\"none\" stroke=\"black\" points=\"213,-55.5 213,-91.5 299,-91.5 299,-55.5 213,-55.5\"/>\n",
       "<text text-anchor=\"middle\" x=\"256\" y=\"-69.8\" font-family=\"Times New Roman,serif\" font-size=\"14.00\">data &#45;6.0000</text>\n",
       "</g>\n",
       "<!-- 1906260782240&#45;&gt;1906260780656+ -->\n",
       "<g id=\"edge5\" class=\"edge\">\n",
       "<title>1906260782240&#45;&gt;1906260780656+</title>\n",
       "<path fill=\"none\" stroke=\"black\" d=\"M299.1,-62.27C308.64,-59.73 318.65,-57.06 327.81,-54.62\"/>\n",
       "<polygon fill=\"black\" stroke=\"black\" points=\"328.96,-57.93 337.72,-51.97 327.16,-51.17 328.96,-57.93\"/>\n",
       "</g>\n",
       "<!-- 1906260782240*&#45;&gt;1906260782240 -->\n",
       "<g id=\"edge2\" class=\"edge\">\n",
       "<title>1906260782240*&#45;&gt;1906260782240</title>\n",
       "<path fill=\"none\" stroke=\"black\" d=\"M176.23,-73.5C184.26,-73.5 193.4,-73.5 202.53,-73.5\"/>\n",
       "<polygon fill=\"black\" stroke=\"black\" points=\"202.79,-77 212.79,-73.5 202.79,-70 202.79,-77\"/>\n",
       "</g>\n",
       "<!-- 1906260782480 -->\n",
       "<g id=\"node6\" class=\"node\">\n",
       "<title>1906260782480</title>\n",
       "<polygon fill=\"none\" stroke=\"black\" points=\"212,-0.5 212,-36.5 300,-36.5 300,-0.5 212,-0.5\"/>\n",
       "<text text-anchor=\"middle\" x=\"256\" y=\"-14.8\" font-family=\"Times New Roman,serif\" font-size=\"14.00\">data 10.0000</text>\n",
       "</g>\n",
       "<!-- 1906260782480&#45;&gt;1906260780656+ -->\n",
       "<g id=\"edge3\" class=\"edge\">\n",
       "<title>1906260782480&#45;&gt;1906260780656+</title>\n",
       "<path fill=\"none\" stroke=\"black\" d=\"M300.01,-29.56C309.21,-31.93 318.81,-34.39 327.63,-36.66\"/>\n",
       "<polygon fill=\"black\" stroke=\"black\" points=\"327.01,-40.12 337.56,-39.22 328.75,-33.34 327.01,-40.12\"/>\n",
       "</g>\n",
       "<!-- 1906260779936 -->\n",
       "<g id=\"node7\" class=\"node\">\n",
       "<title>1906260779936</title>\n",
       "<polygon fill=\"none\" stroke=\"black\" points=\"0,-28.5 0,-64.5 86,-64.5 86,-28.5 0,-28.5\"/>\n",
       "<text text-anchor=\"middle\" x=\"43\" y=\"-42.8\" font-family=\"Times New Roman,serif\" font-size=\"14.00\">data &#45;3.0000</text>\n",
       "</g>\n",
       "<!-- 1906260779936&#45;&gt;1906260782240* -->\n",
       "<g id=\"edge4\" class=\"edge\">\n",
       "<title>1906260779936&#45;&gt;1906260782240*</title>\n",
       "<path fill=\"none\" stroke=\"black\" d=\"M86,-57.4C95.16,-59.78 104.75,-62.27 113.57,-64.56\"/>\n",
       "<polygon fill=\"black\" stroke=\"black\" points=\"112.94,-68.01 123.5,-67.14 114.7,-61.24 112.94,-68.01\"/>\n",
       "</g>\n",
       "</g>\n",
       "</svg>\n"
      ],
      "text/plain": [
       "<graphviz.graphs.Digraph at 0x1bbd5ff2310>"
      ]
     },
     "execution_count": 14,
     "metadata": {},
     "output_type": "execute_result"
    }
   ],
   "source": [
    "a = Valor(2)\n",
    "b = Valor(-3)\n",
    "c = Valor(10)\n",
    "\n",
    "d = a * b\n",
    "e = d + c\n",
    "\n",
    "plota_grafo(e)"
   ]
  },
  {
   "cell_type": "markdown",
   "metadata": {},
   "source": [
    "### Registrando o rótulo\n",
    "\n"
   ]
  },
  {
   "cell_type": "markdown",
   "metadata": {},
   "source": [
    "Nosso grafo seria mais legível se tivéssemos rótulos indicando o que é cada vértice. Vamos incluir essa informação na nossa classe.\n",
    "\n"
   ]
  },
  {
   "cell_type": "code",
   "execution_count": 15,
   "metadata": {},
   "outputs": [],
   "source": [
    "class Valor:\n",
    "    def __init__(self, data, progenitor=(), operador_mae=\"\", rotulo=\"\"):\n",
    "        self.data = data\n",
    "        self.progenitor = progenitor\n",
    "        self.operador_mae = operador_mae\n",
    "        self.rotulo = rotulo\n",
    "\n",
    "    def __repr__(self):\n",
    "        return f\"Valor(data={self.data})\"\n",
    "\n",
    "    def __add__(self, outro_valor):\n",
    "        data = self.data + outro_valor.data\n",
    "        progenitor = (self, outro_valor)\n",
    "        operador_mae = \"+\"\n",
    "        saida = Valor(data, progenitor, operador_mae)\n",
    "        return saida\n",
    "\n",
    "    def __mul__(self, outro_valor):\n",
    "        data = self.data * outro_valor.data\n",
    "        progenitor = (self, outro_valor)\n",
    "        operador_mae = \"*\"\n",
    "        saida = Valor(data, progenitor, operador_mae)\n",
    "        return saida"
   ]
  },
  {
   "cell_type": "markdown",
   "metadata": {},
   "source": [
    "Vamos testar!\n",
    "\n"
   ]
  },
  {
   "cell_type": "code",
   "execution_count": 16,
   "metadata": {},
   "outputs": [
    {
     "name": "stdout",
     "output_type": "stream",
     "text": [
      "digraph {\n",
      "\tgraph [rankdir=LR]\n",
      "\t1906261568000 [label=\"{ e | data 4.0000 }\" shape=record]\n",
      "\t\"1906261568000+\" [label=\"+\"]\n",
      "\t\"1906261568000+\" -> 1906261568000\n",
      "\t1906261566080 [label=\"{ c | data 10.0000 }\" shape=record]\n",
      "\t1906261566176 [label=\"{ a | data 2.0000 }\" shape=record]\n",
      "\t1906261567760 [label=\"{ b | data -3.0000 }\" shape=record]\n",
      "\t1906261566416 [label=\"{ d | data -6.0000 }\" shape=record]\n",
      "\t\"1906261566416*\" [label=\"*\"]\n",
      "\t\"1906261566416*\" -> 1906261566416\n",
      "\t1906261567760 -> \"1906261566416*\"\n",
      "\t1906261566176 -> \"1906261566416*\"\n",
      "\t1906261566080 -> \"1906261568000+\"\n",
      "\t1906261566416 -> \"1906261568000+\"\n",
      "}\n",
      "\n"
     ]
    }
   ],
   "source": [
    "a = Valor(2, rotulo=\"a\")\n",
    "b = Valor(-3, rotulo=\"b\")\n",
    "c = Valor(10, rotulo=\"c\")\n",
    "\n",
    "d = a * b\n",
    "e = d + c\n",
    "\n",
    "d.rotulo = \"d\"\n",
    "e.rotulo = \"e\"\n",
    "\n",
    "grafo = plota_grafo(e)\n",
    "print(grafo)"
   ]
  },
  {
   "cell_type": "markdown",
   "metadata": {},
   "source": [
    "### Refazendo o grafo que fizemos na aula anterior\n",
    "\n"
   ]
  },
  {
   "cell_type": "markdown",
   "metadata": {},
   "source": [
    "Na aula anterior nós fizemos um grafo computacional para aprender como funciona o backpropagation. Vamos refazer ele aqui!\n",
    "\n"
   ]
  },
  {
   "cell_type": "code",
   "execution_count": 17,
   "metadata": {},
   "outputs": [
    {
     "data": {
      "image/svg+xml": [
       "<?xml version=\"1.0\" encoding=\"UTF-8\" standalone=\"no\"?>\n",
       "<!DOCTYPE svg PUBLIC \"-//W3C//DTD SVG 1.1//EN\"\n",
       " \"http://www.w3.org/Graphics/SVG/1.1/DTD/svg11.dtd\">\n",
       "<!-- Generated by graphviz version 6.0.2 (20221011.1828)\n",
       " -->\n",
       "<!-- Pages: 1 -->\n",
       "<svg width=\"1117pt\" height=\"210pt\"\n",
       " viewBox=\"0.00 0.00 1117.00 210.00\" xmlns=\"http://www.w3.org/2000/svg\" xmlns:xlink=\"http://www.w3.org/1999/xlink\">\n",
       "<g id=\"graph0\" class=\"graph\" transform=\"scale(1 1) rotate(0) translate(4 206)\">\n",
       "<polygon fill=\"white\" stroke=\"none\" points=\"-4,4 -4,-206 1113,-206 1113,4 -4,4\"/>\n",
       "<!-- 1906260422720 -->\n",
       "<g id=\"node1\" class=\"node\">\n",
       "<title>1906260422720</title>\n",
       "<polygon fill=\"none\" stroke=\"black\" points=\"247,-55.5 247,-91.5 371,-91.5 371,-55.5 247,-55.5\"/>\n",
       "<text text-anchor=\"middle\" x=\"261.5\" y=\"-69.8\" font-family=\"Times New Roman,serif\" font-size=\"14.00\">s1</text>\n",
       "<polyline fill=\"none\" stroke=\"black\" points=\"276,-55.5 276,-91.5\"/>\n",
       "<text text-anchor=\"middle\" x=\"323.5\" y=\"-69.8\" font-family=\"Times New Roman,serif\" font-size=\"14.00\">data 600.0000</text>\n",
       "</g>\n",
       "<!-- 1906261639280+ -->\n",
       "<g id=\"node6\" class=\"node\">\n",
       "<title>1906261639280+</title>\n",
       "<ellipse fill=\"none\" stroke=\"black\" cx=\"434\" cy=\"-100.5\" rx=\"27\" ry=\"18\"/>\n",
       "<text text-anchor=\"middle\" x=\"434\" y=\"-96.8\" font-family=\"Times New Roman,serif\" font-size=\"14.00\">+</text>\n",
       "</g>\n",
       "<!-- 1906260422720&#45;&gt;1906261639280+ -->\n",
       "<g id=\"edge11\" class=\"edge\">\n",
       "<title>1906260422720&#45;&gt;1906261639280+</title>\n",
       "<path fill=\"none\" stroke=\"black\" d=\"M371.14,-86.92C380.48,-88.97 389.84,-91.03 398.34,-92.89\"/>\n",
       "<polygon fill=\"black\" stroke=\"black\" points=\"397.72,-96.34 408.24,-95.06 399.22,-89.5 397.72,-96.34\"/>\n",
       "</g>\n",
       "<!-- 1906260422720* -->\n",
       "<g id=\"node2\" class=\"node\">\n",
       "<title>1906260422720*</title>\n",
       "<ellipse fill=\"none\" stroke=\"black\" cx=\"184\" cy=\"-73.5\" rx=\"27\" ry=\"18\"/>\n",
       "<text text-anchor=\"middle\" x=\"184\" y=\"-69.8\" font-family=\"Times New Roman,serif\" font-size=\"14.00\">*</text>\n",
       "</g>\n",
       "<!-- 1906260422720*&#45;&gt;1906260422720 -->\n",
       "<g id=\"edge1\" class=\"edge\">\n",
       "<title>1906260422720*&#45;&gt;1906260422720</title>\n",
       "<path fill=\"none\" stroke=\"black\" d=\"M211.09,-73.5C218.72,-73.5 227.46,-73.5 236.49,-73.5\"/>\n",
       "<polygon fill=\"black\" stroke=\"black\" points=\"236.78,-77 246.78,-73.5 236.78,-70 236.78,-77\"/>\n",
       "</g>\n",
       "<!-- 1906260282960 -->\n",
       "<g id=\"node3\" class=\"node\">\n",
       "<title>1906260282960</title>\n",
       "<polygon fill=\"none\" stroke=\"black\" points=\"1.5,-165.5 1.5,-201.5 119.5,-201.5 119.5,-165.5 1.5,-165.5\"/>\n",
       "<text text-anchor=\"middle\" x=\"16.5\" y=\"-179.8\" font-family=\"Times New Roman,serif\" font-size=\"14.00\">x2</text>\n",
       "<polyline fill=\"none\" stroke=\"black\" points=\"31.5,-165.5 31.5,-201.5\"/>\n",
       "<text text-anchor=\"middle\" x=\"75.5\" y=\"-179.8\" font-family=\"Times New Roman,serif\" font-size=\"14.00\">data 24.0000</text>\n",
       "</g>\n",
       "<!-- 1906261639328* -->\n",
       "<g id=\"node8\" class=\"node\">\n",
       "<title>1906261639328*</title>\n",
       "<ellipse fill=\"none\" stroke=\"black\" cx=\"184\" cy=\"-128.5\" rx=\"27\" ry=\"18\"/>\n",
       "<text text-anchor=\"middle\" x=\"184\" y=\"-124.8\" font-family=\"Times New Roman,serif\" font-size=\"14.00\">*</text>\n",
       "</g>\n",
       "<!-- 1906260282960&#45;&gt;1906261639328* -->\n",
       "<g id=\"edge15\" class=\"edge\">\n",
       "<title>1906260282960&#45;&gt;1906261639328*</title>\n",
       "<path fill=\"none\" stroke=\"black\" d=\"M101.28,-165.49C117.79,-158.02 136.65,-149.48 152.09,-142.49\"/>\n",
       "<polygon fill=\"black\" stroke=\"black\" points=\"153.54,-145.68 161.21,-138.36 150.65,-139.3 153.54,-145.68\"/>\n",
       "</g>\n",
       "<!-- 1906260280896 -->\n",
       "<g id=\"node4\" class=\"node\">\n",
       "<title>1906260280896</title>\n",
       "<polygon fill=\"none\" stroke=\"black\" points=\"743,-164.5 743,-200.5 857,-200.5 857,-164.5 743,-164.5\"/>\n",
       "<text text-anchor=\"middle\" x=\"759.5\" y=\"-178.8\" font-family=\"Times New Roman,serif\" font-size=\"14.00\">w3</text>\n",
       "<polyline fill=\"none\" stroke=\"black\" points=\"776,-164.5 776,-200.5\"/>\n",
       "<text text-anchor=\"middle\" x=\"816.5\" y=\"-178.8\" font-family=\"Times New Roman,serif\" font-size=\"14.00\">data 2.0000</text>\n",
       "</g>\n",
       "<!-- 1906260127648* -->\n",
       "<g id=\"node13\" class=\"node\">\n",
       "<title>1906260127648*</title>\n",
       "<ellipse fill=\"none\" stroke=\"black\" cx=\"922\" cy=\"-154.5\" rx=\"27\" ry=\"18\"/>\n",
       "<text text-anchor=\"middle\" x=\"922\" y=\"-150.8\" font-family=\"Times New Roman,serif\" font-size=\"14.00\">*</text>\n",
       "</g>\n",
       "<!-- 1906260280896&#45;&gt;1906260127648* -->\n",
       "<g id=\"edge12\" class=\"edge\">\n",
       "<title>1906260280896&#45;&gt;1906260127648*</title>\n",
       "<path fill=\"none\" stroke=\"black\" d=\"M857.14,-169.4C867.15,-167.06 877.31,-164.69 886.49,-162.55\"/>\n",
       "<polygon fill=\"black\" stroke=\"black\" points=\"887.44,-165.92 896.38,-160.24 885.85,-159.11 887.44,-165.92\"/>\n",
       "</g>\n",
       "<!-- 1906261639280 -->\n",
       "<g id=\"node5\" class=\"node\">\n",
       "<title>1906261639280</title>\n",
       "<polygon fill=\"none\" stroke=\"black\" points=\"497,-82.5 497,-118.5 615,-118.5 615,-82.5 497,-82.5\"/>\n",
       "<text text-anchor=\"middle\" x=\"508.5\" y=\"-96.8\" font-family=\"Times New Roman,serif\" font-size=\"14.00\">n</text>\n",
       "<polyline fill=\"none\" stroke=\"black\" points=\"520,-82.5 520,-118.5\"/>\n",
       "<text text-anchor=\"middle\" x=\"567.5\" y=\"-96.8\" font-family=\"Times New Roman,serif\" font-size=\"14.00\">data 720.0000</text>\n",
       "</g>\n",
       "<!-- 1906260127696+ -->\n",
       "<g id=\"node15\" class=\"node\">\n",
       "<title>1906260127696+</title>\n",
       "<ellipse fill=\"none\" stroke=\"black\" cx=\"678\" cy=\"-127.5\" rx=\"27\" ry=\"18\"/>\n",
       "<text text-anchor=\"middle\" x=\"678\" y=\"-123.8\" font-family=\"Times New Roman,serif\" font-size=\"14.00\">+</text>\n",
       "</g>\n",
       "<!-- 1906261639280&#45;&gt;1906260127696+ -->\n",
       "<g id=\"edge9\" class=\"edge\">\n",
       "<title>1906261639280&#45;&gt;1906260127696+</title>\n",
       "<path fill=\"none\" stroke=\"black\" d=\"M615.24,-113.6C624.5,-115.69 633.81,-117.78 642.29,-119.69\"/>\n",
       "<polygon fill=\"black\" stroke=\"black\" points=\"641.65,-123.13 652.17,-121.91 643.19,-116.3 641.65,-123.13\"/>\n",
       "</g>\n",
       "<!-- 1906261639280+&#45;&gt;1906261639280 -->\n",
       "<g id=\"edge2\" class=\"edge\">\n",
       "<title>1906261639280+&#45;&gt;1906261639280</title>\n",
       "<path fill=\"none\" stroke=\"black\" d=\"M461.04,-100.5C468.83,-100.5 477.77,-100.5 486.96,-100.5\"/>\n",
       "<polygon fill=\"black\" stroke=\"black\" points=\"487,-104 497,-100.5 487,-97 487,-104\"/>\n",
       "</g>\n",
       "<!-- 1906261639328 -->\n",
       "<g id=\"node7\" class=\"node\">\n",
       "<title>1906261639328</title>\n",
       "<polygon fill=\"none\" stroke=\"black\" points=\"247,-110.5 247,-146.5 371,-146.5 371,-110.5 247,-110.5\"/>\n",
       "<text text-anchor=\"middle\" x=\"261.5\" y=\"-124.8\" font-family=\"Times New Roman,serif\" font-size=\"14.00\">s2</text>\n",
       "<polyline fill=\"none\" stroke=\"black\" points=\"276,-110.5 276,-146.5\"/>\n",
       "<text text-anchor=\"middle\" x=\"323.5\" y=\"-124.8\" font-family=\"Times New Roman,serif\" font-size=\"14.00\">data 120.0000</text>\n",
       "</g>\n",
       "<!-- 1906261639328&#45;&gt;1906261639280+ -->\n",
       "<g id=\"edge10\" class=\"edge\">\n",
       "<title>1906261639328&#45;&gt;1906261639280+</title>\n",
       "<path fill=\"none\" stroke=\"black\" d=\"M371.14,-114.58C380.48,-112.45 389.84,-110.33 398.34,-108.39\"/>\n",
       "<polygon fill=\"black\" stroke=\"black\" points=\"399.26,-111.77 408.24,-106.14 397.71,-104.94 399.26,-111.77\"/>\n",
       "</g>\n",
       "<!-- 1906261639328*&#45;&gt;1906261639328 -->\n",
       "<g id=\"edge3\" class=\"edge\">\n",
       "<title>1906261639328*&#45;&gt;1906261639328</title>\n",
       "<path fill=\"none\" stroke=\"black\" d=\"M211.09,-128.5C218.72,-128.5 227.46,-128.5 236.49,-128.5\"/>\n",
       "<polygon fill=\"black\" stroke=\"black\" points=\"236.78,-132 246.78,-128.5 236.78,-125 236.78,-132\"/>\n",
       "</g>\n",
       "<!-- 1906260423344 -->\n",
       "<g id=\"node9\" class=\"node\">\n",
       "<title>1906260423344</title>\n",
       "<polygon fill=\"none\" stroke=\"black\" points=\"503.5,-137.5 503.5,-173.5 608.5,-173.5 608.5,-137.5 503.5,-137.5\"/>\n",
       "<text text-anchor=\"middle\" x=\"515.5\" y=\"-151.8\" font-family=\"Times New Roman,serif\" font-size=\"14.00\">b</text>\n",
       "<polyline fill=\"none\" stroke=\"black\" points=\"527.5,-137.5 527.5,-173.5\"/>\n",
       "<text text-anchor=\"middle\" x=\"568\" y=\"-151.8\" font-family=\"Times New Roman,serif\" font-size=\"14.00\">data 7.0000</text>\n",
       "</g>\n",
       "<!-- 1906260423344&#45;&gt;1906260127696+ -->\n",
       "<g id=\"edge7\" class=\"edge\">\n",
       "<title>1906260423344&#45;&gt;1906260127696+</title>\n",
       "<path fill=\"none\" stroke=\"black\" d=\"M608.59,-143.46C619.93,-140.82 631.67,-138.08 642.17,-135.63\"/>\n",
       "<polygon fill=\"black\" stroke=\"black\" points=\"643.24,-138.97 652.18,-133.29 641.65,-132.15 643.24,-138.97\"/>\n",
       "</g>\n",
       "<!-- 1906260283152 -->\n",
       "<g id=\"node10\" class=\"node\">\n",
       "<title>1906260283152</title>\n",
       "<polygon fill=\"none\" stroke=\"black\" points=\"3.5,-110.5 3.5,-146.5 117.5,-146.5 117.5,-110.5 3.5,-110.5\"/>\n",
       "<text text-anchor=\"middle\" x=\"20\" y=\"-124.8\" font-family=\"Times New Roman,serif\" font-size=\"14.00\">w2</text>\n",
       "<polyline fill=\"none\" stroke=\"black\" points=\"36.5,-110.5 36.5,-146.5\"/>\n",
       "<text text-anchor=\"middle\" x=\"77\" y=\"-124.8\" font-family=\"Times New Roman,serif\" font-size=\"14.00\">data 5.0000</text>\n",
       "</g>\n",
       "<!-- 1906260283152&#45;&gt;1906261639328* -->\n",
       "<g id=\"edge13\" class=\"edge\">\n",
       "<title>1906260283152&#45;&gt;1906261639328*</title>\n",
       "<path fill=\"none\" stroke=\"black\" d=\"M117.63,-128.5C127.46,-128.5 137.45,-128.5 146.57,-128.5\"/>\n",
       "<polygon fill=\"black\" stroke=\"black\" points=\"146.81,-132 156.81,-128.5 146.81,-125 146.81,-132\"/>\n",
       "</g>\n",
       "<!-- 1906260282672 -->\n",
       "<g id=\"node11\" class=\"node\">\n",
       "<title>1906260282672</title>\n",
       "<polygon fill=\"none\" stroke=\"black\" points=\"0,-55.5 0,-91.5 121,-91.5 121,-55.5 0,-55.5\"/>\n",
       "<text text-anchor=\"middle\" x=\"16.5\" y=\"-69.8\" font-family=\"Times New Roman,serif\" font-size=\"14.00\">w1</text>\n",
       "<polyline fill=\"none\" stroke=\"black\" points=\"33,-55.5 33,-91.5\"/>\n",
       "<text text-anchor=\"middle\" x=\"77\" y=\"-69.8\" font-family=\"Times New Roman,serif\" font-size=\"14.00\">data 10.0000</text>\n",
       "</g>\n",
       "<!-- 1906260282672&#45;&gt;1906260422720* -->\n",
       "<g id=\"edge8\" class=\"edge\">\n",
       "<title>1906260282672&#45;&gt;1906260422720*</title>\n",
       "<path fill=\"none\" stroke=\"black\" d=\"M121.18,-73.5C129.86,-73.5 138.57,-73.5 146.6,-73.5\"/>\n",
       "<polygon fill=\"black\" stroke=\"black\" points=\"146.7,-77 156.7,-73.5 146.7,-70 146.7,-77\"/>\n",
       "</g>\n",
       "<!-- 1906260127648 -->\n",
       "<g id=\"node12\" class=\"node\">\n",
       "<title>1906260127648</title>\n",
       "<polygon fill=\"none\" stroke=\"black\" points=\"985,-136.5 985,-172.5 1109,-172.5 1109,-136.5 985,-136.5\"/>\n",
       "<text text-anchor=\"middle\" x=\"996.5\" y=\"-150.8\" font-family=\"Times New Roman,serif\" font-size=\"14.00\">y</text>\n",
       "<polyline fill=\"none\" stroke=\"black\" points=\"1008,-136.5 1008,-172.5\"/>\n",
       "<text text-anchor=\"middle\" x=\"1058.5\" y=\"-150.8\" font-family=\"Times New Roman,serif\" font-size=\"14.00\">data 1454.0000</text>\n",
       "</g>\n",
       "<!-- 1906260127648*&#45;&gt;1906260127648 -->\n",
       "<g id=\"edge4\" class=\"edge\">\n",
       "<title>1906260127648*&#45;&gt;1906260127648</title>\n",
       "<path fill=\"none\" stroke=\"black\" d=\"M949.09,-154.5C956.72,-154.5 965.46,-154.5 974.49,-154.5\"/>\n",
       "<polygon fill=\"black\" stroke=\"black\" points=\"974.78,-158 984.78,-154.5 974.78,-151 974.78,-158\"/>\n",
       "</g>\n",
       "<!-- 1906260127696 -->\n",
       "<g id=\"node14\" class=\"node\">\n",
       "<title>1906260127696</title>\n",
       "<polygon fill=\"none\" stroke=\"black\" points=\"741,-109.5 741,-145.5 859,-145.5 859,-109.5 741,-109.5\"/>\n",
       "<text text-anchor=\"middle\" x=\"752.5\" y=\"-123.8\" font-family=\"Times New Roman,serif\" font-size=\"14.00\">k</text>\n",
       "<polyline fill=\"none\" stroke=\"black\" points=\"764,-109.5 764,-145.5\"/>\n",
       "<text text-anchor=\"middle\" x=\"811.5\" y=\"-123.8\" font-family=\"Times New Roman,serif\" font-size=\"14.00\">data 727.0000</text>\n",
       "</g>\n",
       "<!-- 1906260127696&#45;&gt;1906260127648* -->\n",
       "<g id=\"edge6\" class=\"edge\">\n",
       "<title>1906260127696&#45;&gt;1906260127648*</title>\n",
       "<path fill=\"none\" stroke=\"black\" d=\"M859.24,-140.6C868.5,-142.69 877.81,-144.78 886.29,-146.69\"/>\n",
       "<polygon fill=\"black\" stroke=\"black\" points=\"885.65,-150.13 896.17,-148.91 887.19,-143.3 885.65,-150.13\"/>\n",
       "</g>\n",
       "<!-- 1906260127696+&#45;&gt;1906260127696 -->\n",
       "<g id=\"edge5\" class=\"edge\">\n",
       "<title>1906260127696+&#45;&gt;1906260127696</title>\n",
       "<path fill=\"none\" stroke=\"black\" d=\"M705.04,-127.5C712.83,-127.5 721.77,-127.5 730.96,-127.5\"/>\n",
       "<polygon fill=\"black\" stroke=\"black\" points=\"731,-131 741,-127.5 731,-124 731,-131\"/>\n",
       "</g>\n",
       "<!-- 1906260281328 -->\n",
       "<g id=\"node16\" class=\"node\">\n",
       "<title>1906260281328</title>\n",
       "<polygon fill=\"none\" stroke=\"black\" points=\"1.5,-0.5 1.5,-36.5 119.5,-36.5 119.5,-0.5 1.5,-0.5\"/>\n",
       "<text text-anchor=\"middle\" x=\"16.5\" y=\"-14.8\" font-family=\"Times New Roman,serif\" font-size=\"14.00\">x1</text>\n",
       "<polyline fill=\"none\" stroke=\"black\" points=\"31.5,-0.5 31.5,-36.5\"/>\n",
       "<text text-anchor=\"middle\" x=\"75.5\" y=\"-14.8\" font-family=\"Times New Roman,serif\" font-size=\"14.00\">data 60.0000</text>\n",
       "</g>\n",
       "<!-- 1906260281328&#45;&gt;1906260422720* -->\n",
       "<g id=\"edge14\" class=\"edge\">\n",
       "<title>1906260281328&#45;&gt;1906260422720*</title>\n",
       "<path fill=\"none\" stroke=\"black\" d=\"M101.28,-36.51C117.79,-43.98 136.65,-52.52 152.09,-59.51\"/>\n",
       "<polygon fill=\"black\" stroke=\"black\" points=\"150.65,-62.7 161.21,-63.64 153.54,-56.32 150.65,-62.7\"/>\n",
       "</g>\n",
       "</g>\n",
       "</svg>\n"
      ],
      "text/plain": [
       "<graphviz.graphs.Digraph at 0x1bbd5ff2d00>"
      ]
     },
     "execution_count": 17,
     "metadata": {},
     "output_type": "execute_result"
    }
   ],
   "source": [
    "x1 = Valor(60, rotulo=\"x1\")\n",
    "x2 = Valor(24, rotulo=\"x2\")\n",
    "w1 = Valor(10, rotulo=\"w1\")\n",
    "w2 = Valor(5, rotulo=\"w2\")\n",
    "w3 = Valor(2, rotulo=\"w3\")\n",
    "b = Valor(7, rotulo=\"b\")\n",
    "\n",
    "s1 = x1 * w1\n",
    "s1.rotulo = \"s1\"\n",
    "\n",
    "s2 = x2 * w2\n",
    "s2.rotulo = \"s2\"\n",
    "\n",
    "n = s1 + s2\n",
    "n.rotulo = \"n\"\n",
    "\n",
    "k = n + b\n",
    "k.rotulo = \"k\"\n",
    "\n",
    "y = k * w3\n",
    "y.rotulo = \"y\"\n",
    "\n",
    "plota_grafo(y)"
   ]
  },
  {
   "cell_type": "markdown",
   "metadata": {},
   "source": [
    "## Conclusão\n",
    "\n"
   ]
  },
  {
   "cell_type": "markdown",
   "metadata": {},
   "source": [
    "Nesse experimento, foi demonstrada a construção de grafos por meio de classes. Como o objetivo da disciplina é compreender o funcionamento de Redes Neurais, a representação teórica abordada na aula presencial foi traduzida para a linguagem Python e exemplificada por meio de grafos, contendo todos os neurônios e operações. Todos os plots de grafos foram feitos por meio das funções de Andrej Karpath.\n",
    "\n",
    "Nesse sentido, para que seja possível realizar operações entre objetos, os métodos __add__ e __mul__ foram adicionadas, sendo ambos do tipo dunder. Além disso, foram registradas as informações a respeito dos progenitores, operador mãe e rótulo nas classes, para que os grafos pudessem ser plotados contendo todos os neurônios. "
   ]
  },
  {
   "cell_type": "markdown",
   "metadata": {},
   "source": [
    "## Playground\n",
    "\n"
   ]
  },
  {
   "cell_type": "code",
   "execution_count": null,
   "metadata": {},
   "outputs": [],
   "source": []
  },
  {
   "cell_type": "code",
   "execution_count": null,
   "metadata": {},
   "outputs": [],
   "source": []
  }
 ],
 "metadata": {
  "kernelspec": {
   "display_name": "ilumpy",
   "language": "python",
   "name": "ilumpy"
  },
  "language_info": {
   "codemirror_mode": {
    "name": "ipython",
    "version": 3
   },
   "file_extension": ".py",
   "mimetype": "text/x-python",
   "name": "python",
   "nbconvert_exporter": "python",
   "pygments_lexer": "ipython3",
   "version": "3.9.7"
  },
  "org": null
 },
 "nbformat": 4,
 "nbformat_minor": 4
}
